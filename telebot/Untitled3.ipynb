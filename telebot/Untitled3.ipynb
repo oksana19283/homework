{
 "cells": [
  {
   "cell_type": "code",
   "execution_count": null,
   "metadata": {},
   "outputs": [],
   "source": [
    "import telebot\n",
    "\n",
    "import sqlite3 as sql\n",
    "\n",
    "\n",
    "bot = telebot.TeleBot('1543309879:AAGZ3exoeK89P_TWYDpzRfDbxkabNhIoSV8')\n",
    "\n",
    "keyboard1 = telebot.types.ReplyKeyboardMarkup(True, True)\n",
    "keyboard1.row(\"Клієнт \\U0001f4da\", \"Викладач \\U0001F469\\u200D\\U0001F3EB\")\n",
    "              \n",
    "     \n",
    "@bot.message_handler(commands=['start'])\n",
    "def start_message(message):\n",
    "    bot.send_message(message.chat.id, 'Вкажіть будь ласка ви клієнт чи викладач?', reply_markup=keyboard1)\n",
    "\n",
    "    \n",
    "@bot.message_handler(content_types=['text'])\n",
    "def send_text(message):   \n",
    "    if message.text == \"Клієнт \\U0001f4da\":\n",
    "        msg =bot.send_message(message.chat.id,  \"Вкажіть піб\")\n",
    "        bot.register_next_step_handler(msg,step_for_client)\n",
    "            \n",
    "    elif message.text == \"Викладач \\U0001F469\\u200D\\U0001F3EB\" :\n",
    "            msg=bot.send_message(message.chat.id, 'Введіть пароль')  \n",
    "            bot.register_next_step_handler(msg, step_for_teacher)\n",
    "    else: \n",
    "            bot.send_message(message.chat.id, 'Ви щось не те натикали')\n",
    "            \n",
    "def step_for_client(message):\n",
    "    conn = sql.connect('school5.db')\n",
    "    cur = conn.cursor()\n",
    "    cur.execute(\"CREATE TABLE IF NOT EXISTS student (student_id text, student_name text,student_phone text,student_shedule text,student_teacher text)\")\n",
    "    id = message.from_user.id\n",
    "    name=message.text\n",
    "    cur.execute(\"SELECT student_name FROM student WHERE student_name = '{}';\".format(name))\n",
    "    all_results = cur.fetchall()\n",
    "    if len(all_results)== 0:\n",
    "        cur.execute(\"INSERT INTO student VALUES('{}', '{}', '{}', '{}', '{}');\".format(id, name,' ',' ',' '))  \n",
    "        msg=bot.send_message(message.chat.id, 'Введіть номер телефону у форматі +380.........')\n",
    "  \n",
    "        bot.register_next_step_handler(msg, step_for_client_phone)\n",
    "    else:\n",
    "        bot.send_message(message.chat.id, 'Ви вже записані на пробне.Ось ваші данні. Хочете щось змінити?')\n",
    "    conn.commit()\n",
    "\n",
    "    \n",
    "def step_for_client_phone(message): \n",
    "    \n",
    "    conn = sql.connect('school5.db')\n",
    "    cur = conn.cursor()\n",
    "    id = message.from_user.id\n",
    "    phone=message.text  \n",
    "    cur.execute(f\"UPDATE student SET student_phone='{phone}' WHERE  student_id='{id}'\")\n",
    "    #cur.execute(\"UPDATE student SET student_phone='{}' WHERE  student_id='{}';\".format(phone,id))  \n",
    "def step_for_teacher(message):   \n",
    "     if message.text != \"1111\":\n",
    "        msg = bot.send_message(message.chat.id, 'Пароль не вірний. Спробуйте ще раз')\n",
    "        bot.register_next_step_handler(msg, step_for_teacher)\n",
    "        return\n",
    "     else:\n",
    "        bot.send_message(message.chat.id, 'Ви увійшли в систему')\n",
    "bot.polling()\n"
   ]
  },
  {
   "cell_type": "code",
   "execution_count": null,
   "metadata": {},
   "outputs": [],
   "source": []
  },
  {
   "cell_type": "code",
   "execution_count": null,
   "metadata": {},
   "outputs": [],
   "source": []
  },
  {
   "cell_type": "code",
   "execution_count": null,
   "metadata": {},
   "outputs": [],
   "source": []
  },
  {
   "cell_type": "code",
   "execution_count": null,
   "metadata": {},
   "outputs": [],
   "source": []
  }
 ],
 "metadata": {
  "kernelspec": {
   "display_name": "Python 3",
   "language": "python",
   "name": "python3"
  },
  "language_info": {
   "codemirror_mode": {
    "name": "ipython",
    "version": 3
   },
   "file_extension": ".py",
   "mimetype": "text/x-python",
   "name": "python",
   "nbconvert_exporter": "python",
   "pygments_lexer": "ipython3",
   "version": "3.8.3"
  }
 },
 "nbformat": 4,
 "nbformat_minor": 4
}
